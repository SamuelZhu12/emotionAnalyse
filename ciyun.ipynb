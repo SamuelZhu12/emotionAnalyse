{
 "cells": [
  {
   "cell_type": "code",
   "execution_count": 5,
   "metadata": {},
   "outputs": [],
   "source": [
    "import pandas as pd"
   ]
  },
  {
   "cell_type": "code",
   "execution_count": 6,
   "metadata": {},
   "outputs": [],
   "source": [
    "import re"
   ]
  },
  {
   "cell_type": "code",
   "execution_count": 7,
   "metadata": {},
   "outputs": [],
   "source": [
    "import numpy as np\n",
    "import codecs"
   ]
  },
  {
   "cell_type": "code",
   "execution_count": 8,
   "metadata": {},
   "outputs": [],
   "source": [
    "data = pd.DataFrame(pd.read_excel('microwave.xlsx'))"
   ]
  },
  {
   "cell_type": "code",
   "execution_count": 9,
   "metadata": {},
   "outputs": [],
   "source": [
    "data = list(data['review_body'].values)"
   ]
  },
  {
   "cell_type": "code",
   "execution_count": 10,
   "metadata": {},
   "outputs": [],
   "source": [
    "data = [re.sub(',|\\.|\\?|\\(|\\)|\\d|\\*|!|@|#|$|%|\\^|&|<|>|:|;|\\'|-','',str(i)) for i in data]\n",
    "data = [s.lower() for s in data]\n",
    "f = open('stopwords.txt')\n",
    "with codecs.open('stopwords.txt','r',encoding=\"utf-8\") as f:\n",
    "    delList=f.read().split()\n",
    "dictIndex={}\n",
    "dictCount={}\n",
    "for lines in data:\n",
    "    for words in lines.split():\n",
    "        if words in delList or len(words)<2:\n",
    "            continue\n",
    "        dictIndex[words] = dictIndex.get(words, len(dictIndex))\n",
    "        dictCount[words] = dictCount.get(words,1) + 1\n",
    "        \n",
    "wordCount = pd.DataFrame(columns = ['index','word','count'])\n",
    "wordCount['index'] = list(range(len(dictIndex)))\n",
    "wordCount['word'] = list(dictCount.keys())\n",
    "wordCount['count'] = list(dictCount.values())\n",
    "poplist = list(wordCount[wordCount['count']<20].index)\n",
    "wordCount = wordCount.drop(poplist)\n",
    "wordCount.to_csv('ciyun.csv',index = False)\n"
   ]
  },
  {
   "cell_type": "code",
   "execution_count": 11,
   "metadata": {},
   "outputs": [],
   "source": [
    "from gensim import corpora\n",
    "from collections import defaultdict\n",
    "texts = [[word for word in lines.lower().split() if word not in delList]for lines in data]\n",
    "frequency = defaultdict(int)\n",
    "for text in texts:\n",
    "    for token in text:\n",
    "        frequency[token] += 1"
   ]
  },
  {
   "cell_type": "code",
   "execution_count": 15,
   "metadata": {},
   "outputs": [],
   "source": [
    "texts = [[token for token in text if frequency[token]>10] for text in texts]\n",
    "dictionary = corpora.Dictionary(texts)\n",
    "corpus = [dictionary.doc2bow(text) for text in texts]"
   ]
  },
  {
   "cell_type": "code",
   "execution_count": null,
   "metadata": {},
   "outputs": [],
   "source": [
    "from gensim import models"
   ]
  },
  {
   "cell_type": "code",
   "execution_count": 14,
   "metadata": {},
   "outputs": [],
   "source": [
    "tfidf = models.TfidfModel(corpus)"
   ]
  },
  {
   "cell_type": "code",
   "execution_count": 19,
   "metadata": {},
   "outputs": [
    {
     "name": "stdout",
     "output_type": "stream",
     "text": [
      "[ 0.10048281 -0.4666785  -0.4213975   0.11408072 -0.26269522 -0.37425998\n",
      " -0.47669774 -0.12157673  0.35743108  0.35257384  0.03412536 -0.29881\n",
      "  0.02167001 -0.10214388 -0.17482023 -0.42803693  0.04219373 -0.40832585\n",
      "  0.16006605  0.28736034 -0.14385273 -0.4110848  -0.4794865   0.02619536\n",
      "  0.49194333 -0.55000085 -0.47597656  0.01875384 -0.03781598  0.54656345\n",
      "  0.25239167 -0.04646043 -0.34408757 -0.3524025  -0.27879536 -0.11825086\n",
      " -0.1936868   0.2945022  -0.09906912  0.10426231 -0.26747677  0.7542405\n",
      "  0.08951312  0.05132932  0.03019384  0.5548918   0.14467157  0.09636927\n",
      "  0.05037932  0.01028826 -0.38490063  0.00668541 -0.36107025  0.06071957\n",
      "  0.53087425 -0.34287232 -0.16185857 -0.03350376  0.22582659 -0.15810198\n",
      " -0.02291001  0.29635558 -0.08451406 -0.46215564  0.41914472  0.30808055\n",
      " -0.05002823 -0.42996377 -0.30900574 -0.05913643  0.21379635  0.10466556\n",
      "  0.17034474 -0.02328461  0.4222541   0.03905042 -0.14677784  0.22300178\n",
      "  0.23248169 -0.40000284  0.53697264 -0.45209444 -0.21519552  0.01687182\n",
      " -0.18166296 -0.2876047   0.08722488  0.08747335  0.3102316  -0.01592517\n",
      "  0.02161014 -0.01932519 -0.04165886  0.0055701   0.002256   -0.19995672\n",
      "  0.00180219  0.00439558  0.16199219 -0.3009288 ]\n"
     ]
    },
    {
     "data": {
      "text/plain": [
       "0.9996156"
      ]
     },
     "execution_count": 19,
     "metadata": {},
     "output_type": "execute_result"
    }
   ],
   "source": [
    "string = 'microwave match button'\n",
    "string_bow = dictionary.doc2bow(string.lower().split())\n",
    "string_tfidf = tfidf[string_bow]\n",
    "model = models.Word2Vec(texts, size=100, window=5, min_count=1, workers=4)\n",
    "print(model.wv['button'])\n",
    "model.wv.similarity('microwave','button')"
   ]
  },
  {
   "cell_type": "code",
   "execution_count": null,
   "metadata": {},
   "outputs": [],
   "source": []
  },
  {
   "cell_type": "code",
   "execution_count": null,
   "metadata": {},
   "outputs": [],
   "source": []
  },
  {
   "cell_type": "code",
   "execution_count": null,
   "metadata": {},
   "outputs": [],
   "source": []
  },
  {
   "cell_type": "code",
   "execution_count": null,
   "metadata": {},
   "outputs": [],
   "source": []
  }
 ],
 "metadata": {
  "kernelspec": {
   "display_name": "Python 3",
   "language": "python",
   "name": "python3"
  },
  "language_info": {
   "codemirror_mode": {
    "name": "ipython",
    "version": 3
   },
   "file_extension": ".py",
   "mimetype": "text/x-python",
   "name": "python",
   "nbconvert_exporter": "python",
   "pygments_lexer": "ipython3",
   "version": "3.7.0"
  }
 },
 "nbformat": 4,
 "nbformat_minor": 2
}
