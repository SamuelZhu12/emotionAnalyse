{
 "cells": [
  {
   "cell_type": "code",
   "execution_count": 7,
   "metadata": {},
   "outputs": [
    {
     "name": "stdout",
     "output_type": "stream",
     "text": [
      "55499770\n",
      "耗时: 0.19秒\n"
     ]
    }
   ],
   "source": [
    "import sys\n",
    "import time\n",
    "\n",
    "CRCPOLYNOMIAL = 0xEDB88320\n",
    "crctable = [0 for x in range(256)]\n",
    "\n",
    "def create_table():\n",
    "    for i in range(256):\n",
    "        crcreg = i\n",
    "        for _ in range(8):\n",
    "            if (crcreg & 1) != 0:\n",
    "                crcreg = CRCPOLYNOMIAL ^ (crcreg >> 1)\n",
    "            else:\n",
    "                crcreg = crcreg >> 1\n",
    "        crctable[i] = crcreg\n",
    "\n",
    "def crc32(string):\n",
    "    crcstart = 0xFFFFFFFF\n",
    "    for i in range(len(str(string))):\n",
    "        index = (crcstart ^ ord(str(string)[i])) & 255\n",
    "        crcstart = (crcstart >> 8) ^ crctable[index]\n",
    "    return crcstart\n",
    "\n",
    "def crc32_last_index(string):\n",
    "    crcstart = 0xFFFFFFFF\n",
    "    for i in range(len(str(string))):\n",
    "        index = (crcstart ^ ord(str(string)[i])) & 255\n",
    "        crcstart = (crcstart >> 8) ^ crctable[index]\n",
    "    return index\n",
    "\n",
    "def get_crc_index(t):\n",
    "    for i in range(256):\n",
    "        if crctable[i] >> 24 == t:\n",
    "            return i\n",
    "    return -1\n",
    "\n",
    "def deep_check(i, index):\n",
    "    string = \"\"\n",
    "    tc=0x00\n",
    "    hashcode = crc32(i)\n",
    "    tc = hashcode & 0xff ^ index[2]\n",
    "    if not (tc <= 57 and tc >= 48):\n",
    "        return [0]\n",
    "    string += str(tc - 48)\n",
    "    hashcode = crctable[index[2]] ^ (hashcode >>8)\n",
    "    tc = hashcode & 0xff ^ index[1]\n",
    "    if not (tc <= 57 and tc >= 48):\n",
    "        return [0]\n",
    "    string += str(tc - 48)\n",
    "    hashcode = crctable[index[1]] ^ (hashcode >> 8)\n",
    "    tc = hashcode & 0xff ^ index[0]\n",
    "    if not (tc <= 57 and tc >= 48):\n",
    "        return [0]\n",
    "    string += str(tc - 48)\n",
    "    hashcode = crctable[index[0]] ^ (hashcode >> 8)\n",
    "    return [1, string]\n",
    "\n",
    "def main(string):\n",
    "    index = [0 for x in range(4)]\n",
    "    i = 0\n",
    "    ht = int(f\"0x{string}\", 16) ^ 0xffffffff\n",
    "    for i in range(3,-1,-1):\n",
    "        index[3-i] = get_crc_index(ht >> (i*8))\n",
    "        snum = crctable[index[3-i]]\n",
    "        ht ^= snum >> ((3-i)*8)\n",
    "    for i in range(100000000):\n",
    "        lastindex = crc32_last_index(i)\n",
    "        if lastindex == index[3]:\n",
    "            deepCheckData = deep_check(i, index)\n",
    "            if deepCheckData[0]:\n",
    "                break\n",
    "    if i == 100000000:\n",
    "        return -1\n",
    "    return f\"{i}{deepCheckData[1]}\"\n",
    "\n",
    "if __name__ == \"__main__\":\n",
    "    create_table()\n",
    "    start_time = time.time()\n",
    "    print(main('7b57436f'))\n",
    "    end_time = time.time()\n",
    "    print(f\"耗时: {round(end_time - start_time, 2)}秒\")\n"
   ]
  },
  {
   "cell_type": "code",
   "execution_count": null,
   "metadata": {},
   "outputs": [],
   "source": []
  },
  {
   "cell_type": "code",
   "execution_count": null,
   "metadata": {},
   "outputs": [],
   "source": []
  },
  {
   "cell_type": "code",
   "execution_count": null,
   "metadata": {},
   "outputs": [],
   "source": []
  }
 ],
 "metadata": {
  "kernelspec": {
   "display_name": "Python 3",
   "language": "python",
   "name": "python3"
  },
  "language_info": {
   "codemirror_mode": {
    "name": "ipython",
    "version": 3
   },
   "file_extension": ".py",
   "mimetype": "text/x-python",
   "name": "python",
   "nbconvert_exporter": "python",
   "pygments_lexer": "ipython3",
   "version": "3.7.0"
  }
 },
 "nbformat": 4,
 "nbformat_minor": 2
}
