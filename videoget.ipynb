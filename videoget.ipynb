{
 "cells": [
  {
   "cell_type": "code",
   "execution_count": 49,
   "metadata": {},
   "outputs": [],
   "source": [
    "import requests\n",
    "import json\n",
    "import pandas as pd"
   ]
  },
  {
   "cell_type": "code",
   "execution_count": 76,
   "metadata": {},
   "outputs": [],
   "source": [
    "    videolist = []\n",
    "    temp = []"
   ]
  },
  {
   "cell_type": "code",
   "execution_count": 77,
   "metadata": {},
   "outputs": [],
   "source": [
    "alphabet = 'fZodR9XQDSUm21yCkr6zBqiveYah8bt4xsWpHnJE7jL5VG3guMTKNPAwcF'\n",
    "def dec(x):#BV号转换成AV号\n",
    "    r = 0\n",
    "    for i, v in enumerate([11, 10, 3, 8, 4, 6]):\n",
    "        r += alphabet.find(x[v]) * 58**i\n",
    "    return (r - 0x2_0840_07c0) ^ 0x0a93_b324"
   ]
  },
  {
   "cell_type": "code",
   "execution_count": 306,
   "metadata": {},
   "outputs": [],
   "source": [
    "def get_json(url):\n",
    "    headers = {\n",
    "       'User-Agent':'Mozilla/5.0 (X11; Linux x86_64) AppleWebKit/537.36 (KHTML, like Gecko) Chrome/77.0.3865.120 Safari/537.36'\n",
    "    }\n",
    "    params = {\n",
    "         'channel_id': '2511282',\n",
    "         'sort_type' : 'hot',\n",
    "         'offset': '370177835_1587700106',\n",
    "         'page_size' : '30'\n",
    "    }\n",
    "    try:\n",
    "        html = requests.get(url,params=params,headers=headers)\n",
    "        return html.json()\n",
    "\n",
    "    except BaseException:\n",
    "        print('request error')\n",
    "        pass"
   ]
  },
  {
   "cell_type": "code",
   "execution_count": 307,
   "metadata": {},
   "outputs": [
    {
     "name": "stdout",
     "output_type": "stream",
     "text": [
      "                 0\n",
      "0     BV1oC4y187VM\n",
      "1     BV1xz4y1X7ph\n",
      "2     BV1ei4y1x7pf\n",
      "3     BV1mK4y1s7qG\n",
      "4     BV1jg4y1i7nC\n",
      "5     BV1Cp4y1S7UU\n",
      "6     BV18Z4y1u7EJ\n",
      "7     BV1J5411e789\n",
      "8     BV1Ha4y1a7k1\n",
      "9     BV1JZ4y1u7sP\n",
      "10    BV1c54y1q7dx\n",
      "11    BV19K4y1s7Ag\n",
      "12    BV1M54y1z7kU\n",
      "13    BV1Yz411e7SV\n",
      "14    BV1w54y1q7RG\n",
      "15    BV1gp4y1S7iK\n",
      "16    BV13K4y1x7nN\n",
      "17    BV12D4y1S7Lt\n",
      "18    BV1Cp4y1S7yc\n",
      "19    BV1qv411i7st\n",
      "20    BV1hg4y1v7bs\n",
      "21    BV1Xa4y1h7rd\n",
      "22    BV1JD4y1S75D\n",
      "23    BV1X5411Y78Y\n",
      "24    BV1ti4y1V7eD\n",
      "25    BV1b5411W7hP\n",
      "26    BV1dg4y1i7KF\n",
      "27    BV18t4y197o2\n",
      "28    BV1hD4y1S7nz\n",
      "29    BV1gV41167Pf\n",
      "...            ...\n",
      "3330  BV1KQ4y1T7f3\n",
      "3331  BV1zk4y1R71L\n",
      "3332  BV1eV411f7d5\n",
      "3333  BV1dA411b7ZG\n",
      "3334  BV1FT4y137Kh\n",
      "3335  BV1QV411o7NB\n",
      "3336  BV1dK411V7hv\n",
      "3337  BV1WK4y1r7po\n",
      "3338  BV14Z4y1x7BV\n",
      "3339  BV17f4y1S7k1\n",
      "3340  BV13A411b7RT\n",
      "3341  BV1Gp4y1y7KD\n",
      "3342  BV1m541147MF\n",
      "3343  BV197411C763\n",
      "3344  BV1NC4y1x75f\n",
      "3345  BV1kz411b72U\n",
      "3346  BV1uQ4y1N7ce\n",
      "3347  BV1S5411x753\n",
      "3348  BV1Ne411s7SR\n",
      "3349  BV1H7411C7i7\n",
      "3350  BV1jz41187Ug\n",
      "3351  BV1QV411R7d1\n",
      "3352  BV1V741197LY\n",
      "3353  BV17t4y127y8\n",
      "3354  BV1qe411x7ub\n",
      "3355  BV1Qf4y1U7mz\n",
      "3356  BV1b54y197H5\n",
      "3357  BV1Ra4y1x7tF\n",
      "3358  BV19C4y1p7HX\n",
      "3359  BV13Z4y1x7Ra\n",
      "\n",
      "[3360 rows x 1 columns]\n"
     ]
    }
   ],
   "source": [
    "if __name__ == '__main__':\n",
    "    url = 'https://api.bilibili.com/x/web-interface/web/channel/multiple/list?'\n",
    "    html = get_json(url)\n",
    "    for i in range(0,30):\n",
    "        videolist.append(html['data']['list'][i]['bvid'])\n",
    "    videotab = pd.DataFrame(videolist)\n",
    "    print(videotab)"
   ]
  },
  {
   "cell_type": "code",
   "execution_count": 308,
   "metadata": {},
   "outputs": [],
   "source": [
    "videotab.to_csv('test1.csv',index = 0)"
   ]
  },
  {
   "cell_type": "code",
   "execution_count": null,
   "metadata": {},
   "outputs": [],
   "source": [
    "for i in range(0,len(videolist)):\n",
    "    aid = dec(videolist[i])\n",
    "    temp.append(aid)\n",
    "videolist = list(zip(videolist,temp))\n",
    "videotab = pd.DataFrame(videolist)\n",
    "print(videotab)"
   ]
  },
  {
   "cell_type": "code",
   "execution_count": null,
   "metadata": {},
   "outputs": [],
   "source": []
  }
 ],
 "metadata": {
  "kernelspec": {
   "display_name": "Python 3",
   "language": "python",
   "name": "python3"
  },
  "language_info": {
   "codemirror_mode": {
    "name": "ipython",
    "version": 3
   },
   "file_extension": ".py",
   "mimetype": "text/x-python",
   "name": "python",
   "nbconvert_exporter": "python",
   "pygments_lexer": "ipython3",
   "version": "3.7.0"
  }
 },
 "nbformat": 4,
 "nbformat_minor": 2
}
