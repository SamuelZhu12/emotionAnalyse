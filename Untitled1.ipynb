{
 "cells": [
  {
   "cell_type": "code",
   "execution_count": 12,
   "metadata": {},
   "outputs": [
    {
     "name": "stdout",
     "output_type": "stream",
     "text": [
      "200\n",
      "{\"code\":0,\"message\":\"0\",\"ttl\":1,\"data\":{\"aid\":201128750,\"bvid\":\"BV1Yz411e7SV\",\"view\":170855,\"danmaku\":876,\"reply\":1027,\"favorite\":1029,\"coin\":3040,\"share\":75,\"like\":10793,\"now_rank\":0,\"his_rank\":0,\"no_reprint\":1,\"copyright\":1,\"argue_msg\":\"\",\"evaluation\":\"\"}}\n"
     ]
    }
   ],
   "source": [
    "import requests\n",
    "import ssl \n",
    "from lxml import etree\n",
    "ssl._create_default_https_context = ssl._create_unverified_context \n",
    "s = requests.session()\n",
    "s.keep_alive = False\n",
    "#获取当前访问使用的IP地址网站\n",
    "url = 'https://api.bilibili.com/x/web-interface/archive/stat?bvid=BV1Yz411e7SV'\n",
    "#设置代理，从西刺免费代理网站上找出一个可用的代理IP\n",
    "proxies={'https':'27.72.29.159:8080'} #此处也可以通过列表形式，设置多个代理IP，后面通过random.choice()随机选取一个进行使用\n",
    "headers = {\n",
    "            'User-Agent': 'Mozilla/5.0 (X11; Linux x86_64) AppleWebKit/537.36 (KHTML, like Gecko) Chrome/77.0.3865.120 Safari/537.36'\n",
    "            }\n",
    "#使用代理IP进行访问\n",
    "res=requests.get(url,proxies=proxies,timeout=10,headers=headers)\n",
    "status=res.status_code # 状态码\n",
    "print(status)\n",
    "content=res.text\n",
    "print(content)\n"
   ]
  },
  {
   "cell_type": "code",
   "execution_count": 2,
   "metadata": {},
   "outputs": [
    {
     "name": "stdout",
     "output_type": "stream",
     "text": [
      "{\"code\":0,\"message\":\"0\",\"ttl\":1,\"data\":{\"aid\":201128750,\"bvid\":\"BV1Yz411e7SV\",\"view\":167867,\"danmaku\":858,\"reply\":1022,\"favorite\":1021,\"coin\":3014,\"share\":75,\"like\":10653,\"now_rank\":0,\"his_rank\":0,\"no_reprint\":1,\"copyright\":1,\"argue_msg\":\"\",\"evaluation\":\"\"}}\n"
     ]
    }
   ],
   "source": [
    "import requests\n",
    "url = 'https://api.bilibili.com/x/web-interface/archive/stat?bvid=BV1Yz411e7SV'\n",
    "proxies = {'https':'61.183.117.38'}\n",
    "headers = {\n",
    "        'User-Agent': 'Mozilla/5.0 (X11; Linux x86_64) AppleWebKit/537.36 (KHTML, like Gecko) Chrome/77.0.3865.120 Safari/537.36'\n",
    "        }\n",
    "response = requests.get(url ,timeout=30,headers = headers)\n",
    "print(response.text)"
   ]
  },
  {
   "cell_type": "code",
   "execution_count": null,
   "metadata": {},
   "outputs": [],
   "source": []
  }
 ],
 "metadata": {
  "kernelspec": {
   "display_name": "Python 3",
   "language": "python",
   "name": "python3"
  },
  "language_info": {
   "codemirror_mode": {
    "name": "ipython",
    "version": 3
   },
   "file_extension": ".py",
   "mimetype": "text/x-python",
   "name": "python",
   "nbconvert_exporter": "python",
   "pygments_lexer": "ipython3",
   "version": "3.7.0"
  }
 },
 "nbformat": 4,
 "nbformat_minor": 2
}
