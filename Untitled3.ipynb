{
 "cells": [
  {
   "cell_type": "code",
   "execution_count": 1,
   "metadata": {},
   "outputs": [],
   "source": [
    "from bs4 import BeautifulSoup\n",
    "import requests\n",
    "import re\n",
    "import pandas as pd\n",
    "import crc32\n",
    "import json\n",
    "import csv\n",
    "import random\n",
    "from random import choice\n",
    "import time"
   ]
  },
  {
   "cell_type": "code",
   "execution_count": 2,
   "metadata": {},
   "outputs": [],
   "source": [
    "def getRequest(url):\n",
    "        proxyHost = \"u5235.b5.t.16yun.cn\"\n",
    "        proxyPort = \"6460\"\n",
    "\n",
    "        # 代理验证信息\n",
    "        proxyUser = \"16SEDZVO\"\n",
    "        proxyPass = \"507049\"\n",
    "\n",
    "        proxyMeta = \"http://%(user)s:%(pass)s@%(host)s:%(port)s\" % {\n",
    "            \"host\" : proxyHost,\n",
    "            \"port\" : proxyPort,\n",
    "            \"user\" : proxyUser,\n",
    "            \"pass\" : proxyPass,\n",
    "        }\n",
    "\n",
    "    # 设置 http和https访问都是用HTTP代理\n",
    "        proxies = {\n",
    "            \"http\"  : proxyMeta,\n",
    "            \"https\" : proxyMeta,\n",
    "        }\n",
    "\n",
    "\n",
    "    #  设置IP切换头\n",
    "        tunnel = random.randint(1,10000)\n",
    "        user_agent=['Mozilla/5.0 (compatible; MSIE 10.0; Windows NT 6.1; Trident/6.0; SLCC2; .NET CLR 2.0.50727; .NET CLR 3.5.30729; .NET CLR 3.0.30729; .NET4.0C; .NET4.0E; 360SE)',\n",
    "'Mozilla/5.0 (compatible; MSIE 10.0; Windows NT 6.1; WOW64; Trident/6.0; SLCC2; .NET CLR 2.0.50727; .NET CLR 3.5.30729; .NET CLR 3.0.30729)',\n",
    "'Mozilla/5.0 (compatible; MSIE 10.0; Windows NT 6.1; WOW64; Trident/6.0; SLCC2; .NET CLR 2.0.50727; .NET CLR 3.5.30729; .NET CLR 3.0.30729; QQBrowser/6.12)',\n",
    "'Mozilla/5.0 (compatible; MSIE 10.0; Windows NT 6.2; Win64; x64; Trident/6.0; Touch; MAARJS)'\n",
    "                   ]\n",
    "        headers = {\"Proxy-Tunnel\": str(tunnel),\n",
    "                  \"User-Agent\":choice(user_agent)}\n",
    "        try:\n",
    "#             time.sleep(random.random()*1.5)\n",
    "            r=requests.get(url,timeout = 30,proxies = proxies,headers = headers)\n",
    "            r.encoding = r.apparent_encoding\n",
    "            text = r.text\n",
    "            return text\n",
    "        except:\n",
    "            print('转换失败')\n",
    "            return 'error'"
   ]
  },
  {
   "cell_type": "code",
   "execution_count": 3,
   "metadata": {},
   "outputs": [],
   "source": [
    "def join_str(strs):\n",
    "    return ' '.join(strs)"
   ]
  },
  {
   "cell_type": "code",
   "execution_count": null,
   "metadata": {},
   "outputs": [],
   "source": [
    "df = pd.DataFrame(data=None, index=None, columns=['aid','tag'], dtype=None, copy=False)"
   ]
  },
  {
   "cell_type": "code",
   "execution_count": 7,
   "metadata": {},
   "outputs": [
    {
     "name": "stdout",
     "output_type": "stream",
     "text": [
      "840828015\n",
      "正在爬取第1668条视频\n",
      "{'code': 0, 'message': '0', 'ttl': 1, 'data': [{'tag_id': 1833, 'tag_name': '搞笑', 'cover': 'http://i0.hdslb.com/bfs/tag/a2f38fc487c8b4903c95f8c7441b77ee1b620c8b.png', 'head_cover': 'http://i0.hdslb.com/bfs/archive/4afb90b88597f226d22fdaed28a5c4769b372fdc.png', 'content': '一起进来每日补充沙雕能量', 'short_content': '今天你笑出声了吗？', 'type': 3, 'state': 0, 'ctime': 1436866637, 'count': {'view': 0, 'use': 5700770, 'atten': 1860723}, 'is_atten': 0, 'likes': 0, 'hates': 0, 'attribute': 0, 'liked': 0, 'hated': 0, 'extra_attr': 0, 'tag_type': 'new_channel', 'is_activity': False, 'color': '#B07542', 'alpha': 60, 'is_season': False, 'subscribed_count': 1860723, 'archive_count': '539.3万', 'featured_count': 33818}, {'tag_id': 530003, 'tag_name': 'VLOG', 'cover': '', 'head_cover': '', 'content': '', 'short_content': '', 'type': 3, 'state': 0, 'ctime': 1436866637, 'count': {'view': 0, 'use': 3643088, 'atten': 58991}, 'is_atten': 0, 'likes': 0, 'hates': 0, 'attribute': 0, 'liked': 0, 'hated': 0, 'extra_attr': 0, 'tag_type': 'old_channel', 'is_activity': False, 'color': '', 'alpha': 0, 'is_season': False, 'subscribed_count': 58991, 'archive_count': '-', 'featured_count': 0}, {'tag_id': 69347, 'tag_name': '搞笑视频', 'cover': '', 'head_cover': '', 'content': '', 'short_content': '', 'type': 3, 'state': 0, 'ctime': 1436866637, 'count': {'view': 0, 'use': 2811356, 'atten': 233129}, 'is_atten': 0, 'likes': 0, 'hates': 0, 'attribute': 0, 'liked': 0, 'hated': 0, 'extra_attr': 0, 'tag_type': 'old_channel', 'is_activity': False, 'color': '', 'alpha': 0, 'is_season': False, 'subscribed_count': 233129, 'archive_count': '-', 'featured_count': 0}, {'tag_id': 1057109, 'tag_name': '生活记录', 'cover': '', 'head_cover': '', 'content': '', 'short_content': '', 'type': 3, 'state': 0, 'ctime': 1436866637, 'count': {'view': 0, 'use': 4268048, 'atten': 52439}, 'is_atten': 0, 'likes': 0, 'hates': 0, 'attribute': 0, 'liked': 0, 'hated': 0, 'extra_attr': 0, 'tag_type': 'old_channel', 'is_activity': False, 'color': '', 'alpha': 0, 'is_season': False, 'subscribed_count': 52439, 'archive_count': '-', 'featured_count': 0}, {'tag_id': 1742, 'tag_name': '生活', 'cover': '', 'head_cover': '', 'content': '', 'short_content': '', 'type': 3, 'state': 0, 'ctime': 1436866637, 'count': {'view': 0, 'use': 5750020, 'atten': 199628}, 'is_atten': 0, 'likes': 0, 'hates': 0, 'attribute': 0, 'liked': 0, 'hated': 0, 'extra_attr': 0, 'tag_type': 'old_channel', 'is_activity': False, 'color': '', 'alpha': 0, 'is_season': False, 'subscribed_count': 199628, 'archive_count': '-', 'featured_count': 0}, {'tag_id': 51679, 'tag_name': '外卖', 'cover': '', 'head_cover': '', 'content': '', 'short_content': '', 'type': 0, 'state': 0, 'ctime': 1436866637, 'count': {'view': 0, 'use': 22657, 'atten': 743}, 'is_atten': 0, 'likes': 0, 'hates': 0, 'attribute': 0, 'liked': 0, 'hated': 0, 'extra_attr': 0, 'tag_type': 'old_channel', 'is_activity': False, 'color': '', 'alpha': 0, 'is_season': False, 'subscribed_count': 743, 'archive_count': '-', 'featured_count': 0}, {'tag_id': 1109663, 'tag_name': '外卖小哥', 'cover': '', 'head_cover': '', 'content': '', 'short_content': '', 'type': 0, 'state': 0, 'ctime': 1436866637, 'count': {'view': 0, 'use': 11884, 'atten': 904}, 'is_atten': 0, 'likes': 0, 'hates': 0, 'attribute': 0, 'liked': 0, 'hated': 0, 'extra_attr': 0, 'tag_type': 'old_channel', 'is_activity': False, 'color': '', 'alpha': 0, 'is_season': False, 'subscribed_count': 904, 'archive_count': '-', 'featured_count': 0}, {'tag_id': 1294182, 'tag_name': '美团', 'cover': '', 'head_cover': '', 'content': '', 'short_content': '', 'type': 0, 'state': 0, 'ctime': 1438307543, 'count': {'view': 0, 'use': 5168, 'atten': 159}, 'is_atten': 0, 'likes': 0, 'hates': 0, 'attribute': 0, 'liked': 0, 'hated': 0, 'extra_attr': 0, 'tag_type': 'old_channel', 'is_activity': False, 'color': '', 'alpha': 0, 'is_season': False, 'subscribed_count': 159, 'archive_count': '-', 'featured_count': 0}, {'tag_id': 1619112, 'tag_name': '美团外卖', 'cover': '', 'head_cover': '', 'content': '', 'short_content': '', 'type': 0, 'state': 0, 'ctime': 1458637283, 'count': {'view': 0, 'use': 3477, 'atten': 198}, 'is_atten': 0, 'likes': 0, 'hates': 0, 'attribute': 0, 'liked': 0, 'hated': 0, 'extra_attr': 0, 'tag_type': 'old_channel', 'is_activity': False, 'color': '', 'alpha': 0, 'is_season': False, 'subscribed_count': 198, 'archive_count': '-', 'featured_count': 0}, {'tag_id': 4158712, 'tag_name': '今天也是充满希望的一天', 'cover': '', 'head_cover': '', 'content': '', 'short_content': '', 'type': 0, 'state': 0, 'ctime': 1501599326, 'count': {'view': 0, 'use': 26, 'atten': 3}, 'is_atten': 0, 'likes': 0, 'hates': 0, 'attribute': 0, 'liked': 0, 'hated': 0, 'extra_attr': 0, 'tag_type': 'old_channel', 'is_activity': False, 'color': '', 'alpha': 0, 'is_season': False, 'subscribed_count': 3, 'archive_count': '-', 'featured_count': 0}]}\n",
      "搞笑 VLOG 搞笑视频 生活记录 生活 外卖 外卖小哥 美团 美团外卖 今天也是充满希望的一天\n"
     ]
    }
   ],
   "source": [
    "list = []\n",
    "i = 1668\n",
    "dt = pd.read_csv('videoInfo.csv')\n",
    "aidlist = dt['aid']\n",
    "aid = aidlist[i]\n",
    "print(aid)\n",
    "print('正在爬取第'+str(i)+'条视频')\n",
    "url = 'https://api.bilibili.com/x/web-interface/view/detail/tag?aid='+str(aidlist[i])\n",
    "tagText = getRequest(url)\n",
    "jsonobj = json.loads(tagText)\n",
    "print(jsonobj)\n",
    "if (jsonobj['data']!='None'):\n",
    "    for i in range(0,len(jsonobj['data'])):\n",
    "        list.append(jsonobj['data'][i]['tag_name'])\n",
    "        tag = join_str(list)\n",
    "else:\n",
    "    tag = 'None'\n",
    "print(tag)"
   ]
  },
  {
   "cell_type": "code",
   "execution_count": null,
   "metadata": {},
   "outputs": [],
   "source": []
  }
 ],
 "metadata": {
  "kernelspec": {
   "display_name": "Python 3",
   "language": "python",
   "name": "python3"
  },
  "language_info": {
   "codemirror_mode": {
    "name": "ipython",
    "version": 3
   },
   "file_extension": ".py",
   "mimetype": "text/x-python",
   "name": "python",
   "nbconvert_exporter": "python",
   "pygments_lexer": "ipython3",
   "version": "3.7.0"
  }
 },
 "nbformat": 4,
 "nbformat_minor": 2
}
